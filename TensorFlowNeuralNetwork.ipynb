{
 "cells": [
  {
   "cell_type": "code",
   "execution_count": 1,
   "id": "6be2f743-1604-46e9-8df1-092fc3cdf67c",
   "metadata": {},
   "outputs": [],
   "source": [
    "from sklearn.preprocessing import MinMaxScaler\n",
    "import numpy as np\n",
    "import matplotlib.pyplot as plt\n",
    "import warnings \n",
    "warnings.filterwarnings(\"ignore\")\n",
    "\n",
    "%matplotlib inline "
   ]
  },
  {
   "cell_type": "raw",
   "id": "2c743985-84b7-488c-9c33-8b5a6e9f2b6c",
   "metadata": {},
   "source": [
    "step01: input data\n",
    "steps02: preprocessing / Scaling / Normalization\n",
    "step03: Spliting [\"trrain\",\"test\",\"validation\"]   -->[80%,20%] or [75%,25%]\n",
    "step04: Testing and make a prediction "
   ]
  },
  {
   "cell_type": "markdown",
   "id": "93cd051e-0f76-4dee-8c60-f8dc8dafaa5b",
   "metadata": {},
   "source": [
    "### Step:01 Input data"
   ]
  },
  {
   "cell_type": "code",
   "execution_count": 2,
   "id": "e6ea262a-cb65-45dd-bf74-9e2ae1cfb16b",
   "metadata": {},
   "outputs": [],
   "source": [
    "trainData = np.array([[0,1,0],\n",
    "                      [0,1,1],\n",
    "                      [0,0,0],\n",
    "                      [10,0,0],\n",
    "                      [10,1,1],\n",
    "                      [10,0,1]\n",
    "                     ])"
   ]
  },
  {
   "cell_type": "code",
   "execution_count": 6,
   "id": "060cb9c2-3291-421d-976a-a275d7f7e0e6",
   "metadata": {},
   "outputs": [],
   "source": [
    "outTrainData = np.array([[0], [0],[0],[1],[1],[1]])"
   ]
  },
  {
   "cell_type": "code",
   "execution_count": 4,
   "id": "979fb2a8-6c4c-4307-816e-7f3654e30602",
   "metadata": {},
   "outputs": [],
   "source": [
    "trainDataPrediction = np.array([1,1,0])"
   ]
  },
  {
   "cell_type": "code",
   "execution_count": 5,
   "id": "9544931f-ddf9-4382-ae70-463918576bdc",
   "metadata": {},
   "outputs": [
    {
     "data": {
      "text/plain": [
       "array([1, 1, 0])"
      ]
     },
     "execution_count": 5,
     "metadata": {},
     "output_type": "execute_result"
    }
   ],
   "source": [
    "trainDataPrediction"
   ]
  },
  {
   "cell_type": "code",
   "execution_count": 11,
   "id": "ce9d8c68-ba47-4f60-baf1-0a9083b57494",
   "metadata": {},
   "outputs": [],
   "source": [
    "testData = np.array([[1,1,1],\n",
    "                      [10,0,1],\n",
    "                      [0,1,10],\n",
    "                      [10,0,10],\n",
    "                      [10,0,10],\n",
    "                      [0,0,0],\n",
    "                      [0,1,1]\n",
    "                     ])"
   ]
  },
  {
   "cell_type": "code",
   "execution_count": 15,
   "id": "52331ed7-cd5d-496b-adad-5cf616f479b5",
   "metadata": {},
   "outputs": [],
   "source": [
    "outTestData = np.array([[0], [0],[0],[1],[1],[1]])"
   ]
  },
  {
   "cell_type": "code",
   "execution_count": 16,
   "id": "7d3befbf-6ab3-41e2-bdcf-c2bc68abaacb",
   "metadata": {},
   "outputs": [],
   "source": [
    "scalling = MinMaxScaler()"
   ]
  },
  {
   "cell_type": "code",
   "execution_count": 17,
   "id": "60b4ae3d-d414-4d9d-8f0f-8eaa8541519d",
   "metadata": {},
   "outputs": [],
   "source": [
    "trainDataScaled=scalling.fit_transform(trainData)\n",
    "testDataScaled=scalling.fit_transform(testData)\n",
    "\n",
    "\n",
    "out_DataScaled=scalling.fit_transform(outTrainData)\n",
    "out_ataScaled=scalling.fit_transform(outTestData)"
   ]
  },
  {
   "cell_type": "code",
   "execution_count": 18,
   "id": "45d40798-71a7-478b-af19-051e601a592d",
   "metadata": {},
   "outputs": [
    {
     "data": {
      "text/plain": [
       "array([[0.1, 1. , 0.1],\n",
       "       [1. , 0. , 0.1],\n",
       "       [0. , 1. , 1. ],\n",
       "       [1. , 0. , 1. ],\n",
       "       [1. , 0. , 1. ],\n",
       "       [0. , 0. , 0. ],\n",
       "       [0. , 1. , 0.1]])"
      ]
     },
     "execution_count": 18,
     "metadata": {},
     "output_type": "execute_result"
    }
   ],
   "source": [
    "trainDataScaled"
   ]
  },
  {
   "cell_type": "code",
   "execution_count": 19,
   "id": "23fe1d37-8b99-4f5f-8136-f018dc72fcb8",
   "metadata": {},
   "outputs": [
    {
     "data": {
      "text/plain": [
       "array([[ 1,  1,  1],\n",
       "       [10,  0,  1],\n",
       "       [ 0,  1, 10],\n",
       "       [10,  0, 10],\n",
       "       [10,  0, 10],\n",
       "       [ 0,  0,  0],\n",
       "       [ 0,  1,  1]])"
      ]
     },
     "execution_count": 19,
     "metadata": {},
     "output_type": "execute_result"
    }
   ],
   "source": [
    "trainData"
   ]
  },
  {
   "cell_type": "code",
   "execution_count": 20,
   "id": "4396a622-3019-4d59-8275-7aab7e482aa2",
   "metadata": {},
   "outputs": [
    {
     "data": {
      "text/plain": [
       "0.1"
      ]
     },
     "execution_count": 20,
     "metadata": {},
     "output_type": "execute_result"
    }
   ],
   "source": [
    "1/10"
   ]
  },
  {
   "cell_type": "code",
   "execution_count": 21,
   "id": "8c69dd1e-c823-4f6a-9224-0731856fcdf8",
   "metadata": {},
   "outputs": [
    {
     "data": {
      "text/plain": [
       "2"
      ]
     },
     "execution_count": 21,
     "metadata": {},
     "output_type": "execute_result"
    }
   ],
   "source": [
    "np.argmax([0.3,0.1,0.6])"
   ]
  },
  {
   "cell_type": "code",
   "execution_count": 22,
   "id": "5debcd6a-390f-4673-8d86-b0fc76c39b6b",
   "metadata": {},
   "outputs": [
    {
     "data": {
      "text/plain": [
       "0.6"
      ]
     },
     "execution_count": 22,
     "metadata": {},
     "output_type": "execute_result"
    }
   ],
   "source": [
    "a = [0.3,0.1,0.6]\n",
    "a[2]"
   ]
  },
  {
   "cell_type": "raw",
   "id": "9bdab018-293a-4b8e-a2a1-83845b0a0020",
   "metadata": {},
   "source": [
    "FFNN"
   ]
  },
  {
   "cell_type": "code",
   "execution_count": 23,
   "id": "eab41591-b2bc-4efd-b736-7d4b94e783f2",
   "metadata": {},
   "outputs": [],
   "source": [
    "    trainImage = 1/255.0"
   ]
  },
  {
   "cell_type": "code",
   "execution_count": 24,
   "id": "899883ed-7fb6-46e5-aef2-4e8a75bea4ef",
   "metadata": {},
   "outputs": [
    {
     "data": {
      "text/plain": [
       "0.00392156862745098"
      ]
     },
     "execution_count": 24,
     "metadata": {},
     "output_type": "execute_result"
    }
   ],
   "source": [
    "trainImage"
   ]
  },
  {
   "cell_type": "code",
   "execution_count": 25,
   "id": "41fad9d4-c996-4abd-85b8-aafc1fa53a9c",
   "metadata": {},
   "outputs": [
    {
     "data": {
      "text/plain": [
       "'/home/user/Documents/ML_projects/Neural Network with Pytorch/CustomNeuralNetwork'"
      ]
     },
     "execution_count": 25,
     "metadata": {},
     "output_type": "execute_result"
    }
   ],
   "source": [
    "pwd"
   ]
  },
  {
   "cell_type": "code",
   "execution_count": null,
   "id": "497db3a6-74f9-4038-9c3d-f0146774a335",
   "metadata": {},
   "outputs": [],
   "source": []
  }
 ],
 "metadata": {
  "kernelspec": {
   "display_name": "Python 3 (ipykernel)",
   "language": "python",
   "name": "python3"
  },
  "language_info": {
   "codemirror_mode": {
    "name": "ipython",
    "version": 3
   },
   "file_extension": ".py",
   "mimetype": "text/x-python",
   "name": "python",
   "nbconvert_exporter": "python",
   "pygments_lexer": "ipython3",
   "version": "3.9.12"
  }
 },
 "nbformat": 4,
 "nbformat_minor": 5
}
